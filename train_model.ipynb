{
 "cells": [
  {
   "cell_type": "code",
   "execution_count": 1,
   "id": "5cb186c4",
   "metadata": {},
   "outputs": [],
   "source": [
    "import matplotlib.pyplot as plt\n",
    "import numpy as np\n",
    "import os\n",
    "from PIL import Image\n",
    "import tensorflow as tf\n",
    "\n",
    "from tensorflow.keras.preprocessing import image_dataset_from_directory"
   ]
  },
  {
   "cell_type": "code",
   "execution_count": 2,
   "id": "8c38a8e7",
   "metadata": {},
   "outputs": [
    {
     "name": "stdout",
     "output_type": "stream",
     "text": [
      "Found 19717 files belonging to 2 classes.\n",
      "Found 499 files belonging to 2 classes.\n"
     ]
    }
   ],
   "source": [
    "# W tym miejscu dataset musi byc gotowy\n",
    "data_dir = (\"./data\")\n",
    "\n",
    "BATCH_SIZE = 32\n",
    "IMG_SIZE = (160, 160)\n",
    "\n",
    "# wskazenie ścieżki do danych uczących\n",
    "train_dataset = image_dataset_from_directory(data_dir + \"/train\",\n",
    "                                             shuffle=True,\n",
    "                                             batch_size=BATCH_SIZE,\n",
    "                                             image_size=IMG_SIZE)\n",
    "\n",
    "# wskazenie ścieżki do danych testujacych\n",
    "validation_dataset = image_dataset_from_directory(data_dir + \"/test\",\n",
    "                                                  shuffle=True,\n",
    "                                                  batch_size=BATCH_SIZE,\n",
    "                                                  image_size=IMG_SIZE)"
   ]
  },
  {
   "cell_type": "code",
   "execution_count": 3,
   "id": "7ade1cf5",
   "metadata": {},
   "outputs": [],
   "source": [
    "class_names = [\"negative\", \"positive\"]"
   ]
  },
  {
   "cell_type": "code",
   "execution_count": 4,
   "id": "ecfc5f9e",
   "metadata": {},
   "outputs": [
    {
     "name": "stdout",
     "output_type": "stream",
     "text": [
      "Number of validation batches: 13\n",
      "Number of test batches: 3\n"
     ]
    }
   ],
   "source": [
    "# dane testujące dzielimy na 2 grupy:\n",
    "# - pierwsza 80% (dane do validacji) jest wykorzystywana podczas uczenia, aby dostroić sieć\n",
    "# - druga 20% (dane do testowania) nie są wykorzystywane podczas uczenia, dzięki temu możemy poprawnie zmierzyć dokładność\n",
    "val_batches = tf.data.experimental.cardinality(validation_dataset)\n",
    "test_dataset = validation_dataset.take(val_batches // 5)\n",
    "validation_dataset = validation_dataset.skip(val_batches // 5)\n",
    "\n",
    "print('Number of validation batches: %d' % tf.data.experimental.cardinality(validation_dataset))\n",
    "print('Number of test batches: %d' % tf.data.experimental.cardinality(test_dataset))"
   ]
  },
  {
   "cell_type": "code",
   "execution_count": 5,
   "id": "a31d8327",
   "metadata": {},
   "outputs": [],
   "source": [
    "# to jest tylko wykorzystywane do poprawienia wydajności przy ładowaniu plikow z dysku\n",
    "AUTOTUNE = tf.data.AUTOTUNE\n",
    "\n",
    "train_dataset = train_dataset.prefetch(buffer_size=AUTOTUNE)\n",
    "validation_dataset = validation_dataset.prefetch(buffer_size=AUTOTUNE)\n",
    "test_dataset = test_dataset.prefetch(buffer_size=AUTOTUNE)"
   ]
  },
  {
   "cell_type": "code",
   "execution_count": 6,
   "id": "5082d44b",
   "metadata": {},
   "outputs": [],
   "source": [
    "# aby poprawić wydajność sieci i zapobiedz overfitting, możemy nieco losowo zmodyfikować obraz np. odbicie pionowe, \n",
    "# dzięki temu nasz zbiór danych staje się nieco \"większy\"\n",
    "\n",
    "data_augmentation = tf.keras.Sequential([\n",
    "    tf.keras.layers.experimental.preprocessing.RandomFlip('horizontal'),\n",
    "    tf.keras.layers.experimental.preprocessing.RandomZoom(-0.1, 0.1),\n",
    "    #tf.keras.layers.experimental.preprocessing.RandomContrast(1.0), #moze wyjsc poza przedzial [0,1]\n",
    "    tf.keras.layers.experimental.preprocessing.RandomRotation(0.1),\n",
    "])"
   ]
  },
  {
   "cell_type": "code",
   "execution_count": 7,
   "id": "bab854f1",
   "metadata": {},
   "outputs": [],
   "source": [
    "preprocess_input = tf.keras.applications.mobilenet_v2.preprocess_input"
   ]
  },
  {
   "cell_type": "code",
   "execution_count": 8,
   "id": "b501d4e6",
   "metadata": {},
   "outputs": [],
   "source": [
    "# sieć przyjmuje wartości z przedzialu [-1, 1] \n",
    "rescale = tf.keras.layers.experimental.preprocessing.Rescaling(1./127.5, offset= -1)\n",
    "\n",
    "#tf.keras.applications.mobilenet_v2.preprocess_input(x)"
   ]
  },
  {
   "cell_type": "code",
   "execution_count": 9,
   "id": "382e1190",
   "metadata": {},
   "outputs": [],
   "source": [
    "# tworzymy model: sieć której użyjemy jest MobileNetV2 (bo jest szybka)\n",
    "IMG_SHAPE = IMG_SIZE + (3,)\n",
    "base_model = tf.keras.applications.MobileNetV2(input_shape=IMG_SHAPE,\n",
    "                                               include_top=False,\n",
    "                                               weights='imagenet')"
   ]
  },
  {
   "cell_type": "code",
   "execution_count": 10,
   "id": "951f7948",
   "metadata": {},
   "outputs": [
    {
     "name": "stdout",
     "output_type": "stream",
     "text": [
      "(32, 5, 5, 1280)\n"
     ]
    }
   ],
   "source": [
    "# to konwertuje nasze obrazy w blocks of features\n",
    "\n",
    "image_batch, label_batch = next(iter(train_dataset))\n",
    "feature_batch = base_model(image_batch)\n",
    "print(feature_batch.shape)"
   ]
  },
  {
   "cell_type": "code",
   "execution_count": 11,
   "id": "00a79500",
   "metadata": {},
   "outputs": [],
   "source": [
    "# blokujemy MobileNet aby jej nie uczyć (ona jest juz nauczona, my tylko będziemy uczyc ostatnia warstwe)\n",
    "base_model.trainable = False"
   ]
  },
  {
   "cell_type": "code",
   "execution_count": 12,
   "id": "4326d680",
   "metadata": {},
   "outputs": [
    {
     "name": "stdout",
     "output_type": "stream",
     "text": [
      "(32, 1280)\n"
     ]
    }
   ],
   "source": [
    "#mobile net na wyjściu daje wektor 1280, a to odbiera ten wektor\n",
    "\n",
    "global_average_layer = tf.keras.layers.GlobalAveragePooling2D()\n",
    "feature_batch_average = global_average_layer(feature_batch)\n",
    "print(feature_batch_average.shape)"
   ]
  },
  {
   "cell_type": "code",
   "execution_count": 13,
   "id": "f10ce808",
   "metadata": {},
   "outputs": [
    {
     "name": "stdout",
     "output_type": "stream",
     "text": [
      "(32, 1)\n"
     ]
    }
   ],
   "source": [
    "# dodaje ostatnia warstwe dostaniemy jedą wartość, wartość pozytywna odpowiada 1, a negatywna 0\n",
    "prediction_layer = tf.keras.layers.Dense(1)\n",
    "prediction_batch = prediction_layer(feature_batch_average)\n",
    "print(prediction_batch.shape)"
   ]
  },
  {
   "cell_type": "code",
   "execution_count": 14,
   "id": "dac444ab",
   "metadata": {},
   "outputs": [],
   "source": [
    "# tworzenie modelu\n",
    "inputs = tf.keras.Input(shape=(160, 160, 3))\n",
    "x = data_augmentation(inputs)\n",
    "x = preprocess_input(x)\n",
    "x = base_model(x, training=False)\n",
    "x = global_average_layer(x)\n",
    "x = tf.keras.layers.Dropout(0.2)(x)\n",
    "outputs = prediction_layer(x)\n",
    "model = tf.keras.Model(inputs, outputs)"
   ]
  },
  {
   "cell_type": "code",
   "execution_count": 15,
   "id": "5b0adff9",
   "metadata": {},
   "outputs": [],
   "source": [
    "# kompilacja modelu\n",
    "base_learning_rate = 0.0001\n",
    "model.compile(optimizer=tf.keras.optimizers.Adam(learning_rate=base_learning_rate),\n",
    "              loss=tf.keras.losses.BinaryCrossentropy(from_logits=True),\n",
    "              metrics=['accuracy'])"
   ]
  },
  {
   "cell_type": "code",
   "execution_count": 16,
   "id": "722c1772",
   "metadata": {},
   "outputs": [
    {
     "name": "stdout",
     "output_type": "stream",
     "text": [
      "Model: \"model\"\n",
      "_________________________________________________________________\n",
      "Layer (type)                 Output Shape              Param #   \n",
      "=================================================================\n",
      "input_2 (InputLayer)         [(None, 160, 160, 3)]     0         \n",
      "_________________________________________________________________\n",
      "sequential (Sequential)      (None, 160, 160, 3)       0         \n",
      "_________________________________________________________________\n",
      "tf.math.truediv (TFOpLambda) (None, 160, 160, 3)       0         \n",
      "_________________________________________________________________\n",
      "tf.math.subtract (TFOpLambda (None, 160, 160, 3)       0         \n",
      "_________________________________________________________________\n",
      "mobilenetv2_1.00_160 (Functi (None, 5, 5, 1280)        2257984   \n",
      "_________________________________________________________________\n",
      "global_average_pooling2d (Gl (None, 1280)              0         \n",
      "_________________________________________________________________\n",
      "dropout (Dropout)            (None, 1280)              0         \n",
      "_________________________________________________________________\n",
      "dense (Dense)                (None, 1)                 1281      \n",
      "=================================================================\n",
      "Total params: 2,259,265\n",
      "Trainable params: 1,281\n",
      "Non-trainable params: 2,257,984\n",
      "_________________________________________________________________\n"
     ]
    }
   ],
   "source": [
    "#model.summary()"
   ]
  },
  {
   "cell_type": "code",
   "execution_count": 17,
   "id": "48b249f5",
   "metadata": {},
   "outputs": [
    {
     "data": {
      "text/plain": [
       "2"
      ]
     },
     "execution_count": 17,
     "metadata": {},
     "output_type": "execute_result"
    }
   ],
   "source": [
    "#trenujemy tylko 2 wartości\n",
    "len(model.trainable_variables)"
   ]
  },
  {
   "cell_type": "code",
   "execution_count": 18,
   "id": "0d4d003b",
   "metadata": {},
   "outputs": [],
   "source": [
    "initial_epochs = 10\n"
   ]
  },
  {
   "cell_type": "code",
   "execution_count": 19,
   "id": "62792a1c",
   "metadata": {},
   "outputs": [
    {
     "name": "stdout",
     "output_type": "stream",
     "text": [
      "{0: 0.75, 1: 2.25}\n"
     ]
    }
   ],
   "source": [
    "# w train dataset mamy więcej danych negatywnych dlatego użytamy dodatkowych wag, aby obrazy pozytywne miały większy wpływ na uczenie\n",
    "class_weight = {0: 0.75,   #negative\n",
    "                1: 2.25}   #positive"
   ]
  },
  {
   "cell_type": "code",
   "execution_count": 20,
   "id": "1f7e708a",
   "metadata": {},
   "outputs": [
    {
     "name": "stdout",
     "output_type": "stream",
     "text": [
      "WARNING:tensorflow:From c:\\users\\ph025\\appdata\\local\\programs\\python\\python39\\lib\\site-packages\\tensorflow\\python\\ops\\array_ops.py:5043: calling gather (from tensorflow.python.ops.array_ops) with validate_indices is deprecated and will be removed in a future version.\n",
      "Instructions for updating:\n",
      "The `validate_indices` argument has no effect. Indices are always validated on CPU and never validated on GPU.\n",
      "Epoch 1/10\n",
      "617/617 [==============================] - 318s 504ms/step - loss: 0.6596 - accuracy: 0.7603 - val_loss: 0.7281 - val_accuracy: 0.5533\n",
      "Epoch 2/10\n",
      "617/617 [==============================] - 306s 491ms/step - loss: 0.5100 - accuracy: 0.8358 - val_loss: 0.6675 - val_accuracy: 0.6129\n",
      "Epoch 3/10\n",
      "617/617 [==============================] - 314s 500ms/step - loss: 0.4575 - accuracy: 0.8566 - val_loss: 0.5570 - val_accuracy: 0.6774\n",
      "Epoch 4/10\n",
      "617/617 [==============================] - 305s 490ms/step - loss: 0.4231 - accuracy: 0.8685 - val_loss: 0.5454 - val_accuracy: 0.6973\n",
      "Epoch 5/10\n",
      "617/617 [==============================] - 310s 499ms/step - loss: 0.4082 - accuracy: 0.8733 - val_loss: 0.4793 - val_accuracy: 0.7295\n",
      "Epoch 6/10\n",
      "617/617 [==============================] - 307s 491ms/step - loss: 0.3787 - accuracy: 0.8863 - val_loss: 0.4759 - val_accuracy: 0.7395\n",
      "Epoch 7/10\n",
      "617/617 [==============================] - 294s 472ms/step - loss: 0.3692 - accuracy: 0.8882 - val_loss: 0.4860 - val_accuracy: 0.7469\n",
      "Epoch 8/10\n",
      "617/617 [==============================] - 298s 479ms/step - loss: 0.3604 - accuracy: 0.8912 - val_loss: 0.4514 - val_accuracy: 0.7643\n",
      "Epoch 9/10\n",
      "617/617 [==============================] - 290s 466ms/step - loss: 0.3541 - accuracy: 0.8926 - val_loss: 0.4551 - val_accuracy: 0.7593\n",
      "Epoch 10/10\n",
      "617/617 [==============================] - 291s 467ms/step - loss: 0.3514 - accuracy: 0.8932 - val_loss: 0.4339 - val_accuracy: 0.7891\n"
     ]
    }
   ],
   "source": [
    "history = model.fit(train_dataset,\n",
    "                    epochs=initial_epochs,\n",
    "                    validation_data=validation_dataset,\n",
    "                    class_weight=class_weight)"
   ]
  },
  {
   "cell_type": "code",
   "execution_count": 21,
   "id": "f8f4c999",
   "metadata": {},
   "outputs": [
    {
     "data": {
      "image/png": "[encoded data removed]",
      "text/plain": [
       "<Figure size 576x576 with 2 Axes>"
      ]
     },
     "metadata": {
      "needs_background": "light"
     },
     "output_type": "display_data"
    }
   ],
   "source": [
    "acc = history.history['accuracy']\n",
    "val_acc = history.history['val_accuracy']\n",
    "\n",
    "loss = history.history['loss']\n",
    "val_loss = history.history['val_loss']"
   ]
  },
  {
   "cell_type": "code",
   "execution_count": 22,
   "id": "df53867b",
   "metadata": {},
   "outputs": [],
   "source": [
    "# będziemy teraz dostrajać sieć - uczyć kilka ostatnich warstw sieci mobileNet\n",
    "\n",
    "base_model.trainable = True"
   ]
  },
  {
   "cell_type": "code",
   "execution_count": 23,
   "id": "d25488ff",
   "metadata": {},
   "outputs": [
    {
     "name": "stdout",
     "output_type": "stream",
     "text": [
      "Number of layers in the base model:  154\n"
     ]
    }
   ],
   "source": [
    "# dostrajamy wszystko po:\n",
    "fine_tune_at = 20\n",
    "\n",
    "for layer in base_model.layers[:fine_tune_at]:\n",
    "  layer.trainable =  False"
   ]
  },
  {
   "cell_type": "code",
   "execution_count": 24,
   "id": "323e7187",
   "metadata": {},
   "outputs": [],
   "source": [
    "model.compile(loss=tf.keras.losses.BinaryCrossentropy(from_logits=True),\n",
    "              optimizer = tf.keras.optimizers.RMSprop(learning_rate=base_learning_rate/10),\n",
    "              metrics=['accuracy'])"
   ]
  },
  {
   "cell_type": "code",
   "execution_count": 25,
   "id": "c10e629c",
   "metadata": {},
   "outputs": [
    {
     "data": {
      "text/plain": [
       "137"
      ]
     },
     "execution_count": 25,
     "metadata": {},
     "output_type": "execute_result"
    }
   ],
   "source": [
    "len(model.trainable_variables)"
   ]
  },
  {
   "cell_type": "code",
   "execution_count": 26,
   "id": "4ffd3fa3",
   "metadata": {},
   "outputs": [
    {
     "name": "stdout",
     "output_type": "stream",
     "text": [
      "Epoch 10/18\n",
      "617/617 [==============================] - 643s 1s/step - loss: 0.2875 - accuracy: 0.9106 - val_loss: 0.2631 - val_accuracy: 0.8834\n",
      "Epoch 11/18\n",
      "617/617 [==============================] - 658s 1s/step - loss: 0.1868 - accuracy: 0.9484 - val_loss: 0.2814 - val_accuracy: 0.8759\n",
      "Epoch 12/18\n",
      "617/617 [==============================] - 715s 1s/step - loss: 0.1493 - accuracy: 0.9606 - val_loss: 0.2989 - val_accuracy: 0.8685\n",
      "Epoch 13/18\n",
      "617/617 [==============================] - 745s 1s/step - loss: 0.1266 - accuracy: 0.9647 - val_loss: 0.5709 - val_accuracy: 0.7990\n",
      "Epoch 14/18\n",
      "617/617 [==============================] - 875s 1s/step - loss: 0.1168 - accuracy: 0.9692 - val_loss: 0.3715 - val_accuracy: 0.8734\n",
      "Epoch 15/18\n",
      "617/617 [==============================] - 808s 1s/step - loss: 0.1072 - accuracy: 0.9710 - val_loss: 0.2693 - val_accuracy: 0.8908\n",
      "Epoch 16/18\n",
      "617/617 [==============================] - 813s 1s/step - loss: 0.1022 - accuracy: 0.9719 - val_loss: 0.3380 - val_accuracy: 0.8734\n",
      "Epoch 17/18\n",
      "617/617 [==============================] - 839s 1s/step - loss: 0.0982 - accuracy: 0.9741 - val_loss: 0.2862 - val_accuracy: 0.8933\n",
      "Epoch 18/18\n",
      "617/617 [==============================] - 833s 1s/step - loss: 0.0918 - accuracy: 0.9749 - val_loss: 0.2478 - val_accuracy: 0.9107\n"
     ]
    },
    {
     "name": "stderr",
     "output_type": "stream",
     "text": [
      "c:\\users\\ph025\\appdata\\local\\programs\\python\\python39\\lib\\site-packages\\tensorflow\\python\\keras\\utils\\generic_utils.py:494: CustomMaskWarning: Custom mask layers require a config and must override get_config. When loading, the custom mask layer must be passed to the custom_objects argument.\n",
      "  warnings.warn('Custom mask layers require a config and must override '\n"
     ]
    }
   ],
   "source": [
    "# dostrajanie\n",
    "fine_tune_epochs = 8\n",
    "total_epochs =  initial_epochs + fine_tune_epochs\n",
    "\n",
    "history_fine = model.fit(train_dataset,\n",
    "                         epochs=total_epochs,\n",
    "                         initial_epoch=history.epoch[-1],\n",
    "                         validation_data=validation_dataset,\n",
    "                         class_weight=class_weight)\n",
    "\n",
    "model.save(\"model.h5\") # zapis wytrenowanego modelu"
   ]
  },
  {
   "cell_type": "code",
   "execution_count": 27,
   "id": "0bb4ccec",
   "metadata": {},
   "outputs": [],
   "source": [
    "acc += history_fine.history['accuracy']\n",
    "val_acc += history_fine.history['val_accuracy']\n",
    "\n",
    "loss += history_fine.history['loss']\n",
    "val_loss += history_fine.history['val_loss']"
   ]
  },
  {
   "cell_type": "code",
   "execution_count": 29,
   "id": "1e66b616",
   "metadata": {},
   "outputs": [
    {
     "name": "stdout",
     "output_type": "stream",
     "text": [
      "3/3 [==============================] - 11s 689ms/step - loss: 0.2161 - accuracy: 0.9167\n",
      "Test accuracy : 0.9166666865348816\n"
     ]
    }
   ],
   "source": [
    "#testujemy jeszcze dla zestawu testujacego (zestaw walidujacy moze źle testować, bo ma wpływ na uczenie)\n",
    "\n",
    "loss, accuracy = model.evaluate(test_dataset)\n",
    "print('Test accuracy :', accuracy)"
   ]
  },
  {
   "cell_type": "code",
   "execution_count": 39,
   "id": "d7293707",
   "metadata": {},
   "outputs": [],
   "source": [
    "# serializacja history\n",
    "import pickle\n",
    "with open('1.history', 'wb') as history_file:\n",
    "  pickle.dump(history.history, history_file)\n",
    "\n",
    "with open('2.history', 'wb') as history_file:\n",
    "  pickle.dump(history_fine.history, history_file)"
   ]
  },
  {
   "cell_type": "code",
   "execution_count": 40,
   "id": "aad4146f",
   "metadata": {},
   "outputs": [
    {
     "name": "stdout",
     "output_type": "stream",
     "text": [
      "dict_keys(['loss', 'accuracy', 'val_loss', 'val_accuracy'])\n",
      "dict_keys(['loss', 'accuracy', 'val_loss', 'val_accuracy'])\n"
     ]
    }
   ],
   "source": [
    "# wczytanie z pliku\n",
    "with open('1.history', 'rb') as history_file:\n",
    "    des_history = pickle.load(history_file)\n",
    "    #print(des_history.keys())\n",
    "    \n",
    "with open('2.history', 'rb') as history_file:\n",
    "    des_history_fine = pickle.load(history_file)\n",
    "    #print(des_history_fine.keys())\n",
    " "
   ]
  }
 ],
 "metadata": {
  "kernelspec": {
   "display_name": "Python 3",
   "language": "python",
   "name": "python3"
  },
  "language_info": {
   "codemirror_mode": {
    "name": "ipython",
    "version": 3
   },
   "file_extension": ".py",
   "mimetype": "text/x-python",
   "name": "python",
   "nbconvert_exporter": "python",
   "pygments_lexer": "ipython3",
   "version": "3.9.4"
  }
 },
 "nbformat": 4,
 "nbformat_minor": 5
}
